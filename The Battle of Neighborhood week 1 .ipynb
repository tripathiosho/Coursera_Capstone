{
 "cells": [
  {
   "cell_type": "markdown",
   "metadata": {},
   "source": [
    "<h1> The Battle for friendly food week 1"
   ]
  },
  {
   "cell_type": "markdown",
   "metadata": {},
   "source": [
    "<h2> Introduction"
   ]
  },
  {
   "cell_type": "markdown",
   "metadata": {},
   "source": [
    "The people of Indian origins are spread all over the world and have been working away from their motherland in\n",
    "search of a better future and good pay. One such group being the ones living in the US, achieving their American dreams. Although many amongst are not really choosy about food, if there is a restaurant in the vicinity they do not really hesitate to go the distance, after all, each Indian is a foodie.\n",
    "\n",
    "so as a project I will try to make a good story out of this situation about Indians in US hungry for some native food."
   ]
  },
  {
   "cell_type": "markdown",
   "metadata": {},
   "source": [
    "<h2> Data"
   ]
  },
  {
   "cell_type": "markdown",
   "metadata": {},
   "source": [
    "For this project we need the following data:\n",
    "\n",
    "* Saint Louis data that contains list Boroughs, Neighborhoods along with their latitude and longitude.\n",
    "* Indian resturants in each neighborhood of new york city.(FOURSQUARE)\n",
    "* GeoSpace data"
   ]
  }
 ],
 "metadata": {
  "kernelspec": {
   "display_name": "Python 3",
   "language": "python",
   "name": "python3"
  },
  "language_info": {
   "codemirror_mode": {
    "name": "ipython",
    "version": 3
   },
   "file_extension": ".py",
   "mimetype": "text/x-python",
   "name": "python",
   "nbconvert_exporter": "python",
   "pygments_lexer": "ipython3",
   "version": "3.8.2"
  }
 },
 "nbformat": 4,
 "nbformat_minor": 4
}
